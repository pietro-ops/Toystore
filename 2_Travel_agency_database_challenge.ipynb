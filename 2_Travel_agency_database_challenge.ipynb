{
  "cells": [
    {
      "cell_type": "markdown",
      "metadata": {
        "id": "view-in-github",
        "colab_type": "text"
      },
      "source": [
        "<a href=\"https://colab.research.google.com/github/pietro-ops/Toystore/blob/main/2_Travel_agency_database_challenge.ipynb\" target=\"_parent\"><img src=\"https://colab.research.google.com/assets/colab-badge.svg\" alt=\"Open In Colab\"/></a>"
      ]
    },
    {
      "cell_type": "markdown",
      "metadata": {
        "id": "b-gD-sAz7tXO"
      },
      "source": [
        " ![Emil](data:image/png;base64,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)"
      ]
    },
    {
      "cell_type": "markdown",
      "metadata": {
        "id": "-GZaVHIylfhC"
      },
      "source": [
        "# Travel agency\n",
        "\n"
      ]
    },
    {
      "cell_type": "markdown",
      "metadata": {
        "id": "OXuaW1Ey74eO"
      },
      "source": [
        "Today, you are working at a travel agency. All the cities covered by this agency are stored in a Python dictionary.\n",
        "\n",
        "\n",
        "They need your newly acquired Python skills to develop useful functions!"
      ]
    },
    {
      "cell_type": "markdown",
      "metadata": {
        "id": "Ot9XlCT-8d5w"
      },
      "source": [
        "## Information for one city\n"
      ]
    },
    {
      "cell_type": "markdown",
      "metadata": {
        "id": "0TklkrRAl8iD"
      },
      "source": [
        "The information pertaining to a city is provided in a single dictionary. Let's take a look at an example below.\n",
        "\n",
        "Please note that:\n",
        "- `location` corresponds to latitude and longitude\n",
        "- `prefecture_level` is measured in km<sup>2</sup> (squared kilometers)"
      ]
    },
    {
      "cell_type": "code",
      "execution_count": 16,
      "metadata": {
        "ExecuteTime": {
          "end_time": "2024-02-13T12:05:25.732492Z",
          "start_time": "2024-02-13T12:05:25.725236Z"
        },
        "id": "L4hhUpgFl9Q1"
      },
      "outputs": [],
      "source": [
        "paris_city = {\"name\": \"Paris\",\n",
        "              \"total_population\": 2102650,\n",
        "              \"continent\": \"Europe\",\n",
        "              \"location\": [48.8566, 2.3522],\n",
        "              \"area\": {\n",
        "                  \"prefecture_level\": 105.4\n",
        "              }}"
      ]
    },
    {
      "cell_type": "markdown",
      "metadata": {
        "id": "x6Xa65XVAw_4"
      },
      "source": [
        "What is the data type of the value of `location`? What about `area`?\n"
      ]
    },
    {
      "cell_type": "code",
      "execution_count": 19,
      "metadata": {
        "ExecuteTime": {
          "end_time": "2024-02-13T12:06:24.177504Z",
          "start_time": "2024-02-13T12:06:24.168783Z"
        },
        "id": "GE7GFCX4EIkX",
        "outputId": "ca50d213-ce79-45db-e1ec-1366bc06af8f",
        "colab": {
          "base_uri": "https://localhost:8080/"
        }
      },
      "outputs": [
        {
          "output_type": "stream",
          "name": "stdout",
          "text": [
            "<class 'list'>\n",
            "<class 'dict'>\n"
          ]
        }
      ],
      "source": [
        "location_type = type(paris_city[\"location\"])\n",
        "print(location_type)\n",
        "\n",
        "area_type = type(paris_city[\"area\"])\n",
        "print(area_type)"
      ]
    },
    {
      "cell_type": "markdown",
      "metadata": {
        "id": "FTD6Z3lPEStU"
      },
      "source": [
        "How do we get the `prefecture_level` from `paris_city` ?\n",
        "\n",
        "\n"
      ]
    },
    {
      "cell_type": "code",
      "execution_count": 23,
      "metadata": {
        "ExecuteTime": {
          "end_time": "2024-02-13T12:42:33.033047Z",
          "start_time": "2024-02-13T12:42:33.021091Z"
        },
        "id": "0x7cIrUUEcpK",
        "outputId": "b24f57ca-7de6-4600-d379-7f2cb36b0ffe",
        "colab": {
          "base_uri": "https://localhost:8080/"
        }
      },
      "outputs": [
        {
          "output_type": "stream",
          "name": "stdout",
          "text": [
            "105.4\n"
          ]
        }
      ],
      "source": [
        "print(paris_city[\"area\"][\"prefecture_level\"])"
      ]
    },
    {
      "cell_type": "markdown",
      "metadata": {
        "id": "0gbqOyRiEcYX"
      },
      "source": [
        "How do we get the `longitude` from `paris_city` ?\n",
        "\n"
      ]
    },
    {
      "cell_type": "code",
      "execution_count": 24,
      "metadata": {
        "ExecuteTime": {
          "end_time": "2024-02-13T12:42:56.775228Z",
          "start_time": "2024-02-13T12:42:56.752159Z"
        },
        "id": "ncyiUMxsEwPZ",
        "outputId": "7987e31d-4a3c-49d3-d266-4b3c2a4b730d",
        "colab": {
          "base_uri": "https://localhost:8080/"
        }
      },
      "outputs": [
        {
          "output_type": "stream",
          "name": "stdout",
          "text": [
            "2.3522\n"
          ]
        }
      ],
      "source": [
        "print(paris_city[\"location\"][1])"
      ]
    },
    {
      "cell_type": "markdown",
      "metadata": {
        "id": "CRhMbQ-GlfXC"
      },
      "source": [
        "Create a function `get_key_value_from_city` that takes two arguments `city` and `key` and outputs the `key` value from the city.\n",
        "\n",
        "\n",
        "\n",
        "__Eg__: `get_key_value_from_city(city=paris_city, key=\"total_population\")` will output 2102650\n",
        "\n",
        "\n",
        "<u>Note:</u> If a property doesn't exist, the function should return \"_property_ not defined\"\n",
        "    \n",
        "\n",
        "\n",
        "\n"
      ]
    },
    {
      "cell_type": "code",
      "execution_count": 41,
      "metadata": {
        "ExecuteTime": {
          "end_time": "2024-02-13T15:25:12.742813Z",
          "start_time": "2024-02-13T15:25:12.732077Z"
        },
        "id": "Rgqzj8y8FYjU",
        "outputId": "7a8b18c3-e2d1-4700-8ff5-f53c42f3727d",
        "colab": {
          "base_uri": "https://localhost:8080/"
        }
      },
      "outputs": [
        {
          "output_type": "stream",
          "name": "stdout",
          "text": [
            "2102650\n"
          ]
        }
      ],
      "source": [
        "# create the function with the selected arguments\n",
        "def get_key_value_from_city(city=paris_city, key=\"total_population\"):\n",
        "\n",
        "  # to be completed\n",
        "  # set default output\n",
        " result = \"property not defined\"\n",
        "\n",
        "  # to be completed\n",
        "  # set the output if the required key exists in the selected city\n",
        " if key in city:\n",
        "   return city[key]\n",
        " else:\n",
        "   return result\n",
        "# to be completed\n",
        "# test the function with the given example\n",
        "print(get_key_value_from_city())"
      ]
    },
    {
      "cell_type": "code",
      "source": [],
      "metadata": {
        "id": "ZV5bOFIS1147"
      },
      "execution_count": null,
      "outputs": []
    },
    {
      "cell_type": "markdown",
      "metadata": {
        "id": "T_pIQ8wW_S5k"
      },
      "source": [
        "## Information for all cities\n",
        "\n"
      ]
    },
    {
      "cell_type": "markdown",
      "metadata": {
        "id": "E6npEinSHZOr"
      },
      "source": [
        "The travel agency has collected multiple cities information where it manages accommodations. \\\n",
        "All of these cities are stored in a Python list called `cities`."
      ]
    },
    {
      "cell_type": "markdown",
      "metadata": {
        "id": "2BSHTaHyBB9g"
      },
      "source": [
        "Execute the cell below to load data. How many cities do they have?"
      ]
    },
    {
      "cell_type": "code",
      "execution_count": 42,
      "metadata": {
        "ExecuteTime": {
          "end_time": "2024-02-13T17:01:09.847504Z",
          "start_time": "2024-02-13T17:01:09.835341Z"
        },
        "id": "0bj29sWQH7Vw"
      },
      "outputs": [],
      "source": [
        "cities = [\n",
        "    {\n",
        "        \"name\": \"Paris\",\n",
        "        \"total_population\": 2102650,\n",
        "        \"continent\": \"Europe\",\n",
        "        \"location\": [48.8566, 2.3522],\n",
        "        \"area\": {\n",
        "            \"prefecture_level\": 105.4\n",
        "        }\n",
        "    },\n",
        "    {\n",
        "        \"name\": \"Xi’an\",\n",
        "        \"total_population\": 12328000,\n",
        "        \"continent\": \"Asia\",\n",
        "        \"location\": [34.2667, 108.9000],\n",
        "        \"area\": {\n",
        "            \"prefecture_level\": 10762\n",
        "        }\n",
        "    },\n",
        "    {\n",
        "        \"name\": \"Chengdu\",\n",
        "        \"total_population\": 14645000,\n",
        "        \"continent\": \"Asia\",\n",
        "        \"location\": [30.6600, 104.0633],\n",
        "        \"area\": {\n",
        "            \"prefecture_level\": 14378\n",
        "        }\n",
        "    },\n",
        "    {\n",
        "        \"name\": \"Los Angeles\",\n",
        "        \"total_population\": 12121244,\n",
        "        \"continent\": \"North America\",\n",
        "        \"location\": [34.1141, -118.4068],\n",
        "        \"area\": {\n",
        "            \"prefecture_level\": 1299\n",
        "        }\n",
        "    },\n",
        "    {\n",
        "        \"name\": \"Brooklyn\",\n",
        "        \"total_population\": 2736074,\n",
        "        \"continent\": \"North America\",\n",
        "        \"location\": [40.6501, -73.9496],\n",
        "        \"area\": {\n",
        "            \"prefecture_level\": 180\n",
        "        }\n",
        "    }\n",
        "]"
      ]
    },
    {
      "cell_type": "code",
      "execution_count": 44,
      "metadata": {
        "ExecuteTime": {
          "end_time": "2024-02-13T13:11:20.949462Z",
          "start_time": "2024-02-13T13:11:20.937614Z"
        },
        "id": "J5gkqrixBHuD",
        "outputId": "2dc2b154-8a89-4213-8a75-470928c18abb",
        "colab": {
          "base_uri": "https://localhost:8080/"
        }
      },
      "outputs": [
        {
          "output_type": "execute_result",
          "data": {
            "text/plain": [
              "5"
            ]
          },
          "metadata": {},
          "execution_count": 44
        }
      ],
      "source": [
        "len(cities)"
      ]
    },
    {
      "cell_type": "markdown",
      "metadata": {
        "id": "jmHZS-23naKa"
      },
      "source": [
        "### Reading value\n",
        "\n"
      ]
    },
    {
      "cell_type": "markdown",
      "metadata": {
        "id": "khUbLMYTL-CN"
      },
      "source": [
        "By utilizing your previous function `get_key_value_from_city` create a new one that will take two arguments: a `city_name` and a `key`.\n",
        "\n",
        "If the city is not in the list, the function should return \"*city* doesn't exist or is not covered\".\n",
        "\n",
        "Test your function with multiple examples."
      ]
    },
    {
      "cell_type": "code",
      "execution_count": 53,
      "metadata": {
        "ExecuteTime": {
          "end_time": "2024-02-13T17:01:13.576168Z",
          "start_time": "2024-02-13T17:01:13.563599Z"
        },
        "id": "Xzd3iPOoMSzQ"
      },
      "outputs": [],
      "source": [
        "# create the function with the selected arguments\n",
        "def get_key_value_from_city(city,key):\n",
        "\n",
        "  # to be completed\n",
        "  # set default output\n",
        "\n",
        "\n",
        "  # to be completed\n",
        "  # start the loop over cities\n",
        "  # \"city\" is the variable we use to identify dictionaries into cities list\n",
        "\n",
        " for dictionary in cities:\n",
        "        if dictionary[\"name\"]== city:\n",
        "          return dictionary[key]\n",
        " return \"not found\"\n",
        "    # to be completed\n",
        "    # set the output if the required key exists in the selected city\n",
        "\n",
        "\n",
        "# to be completed\n"
      ]
    },
    {
      "cell_type": "code",
      "source": [
        "get_key_value_from_city(\"Paris\",\"total_population\")\n"
      ],
      "metadata": {
        "id": "Tq3a16gp4uck",
        "outputId": "d8f1e819-b1da-416c-9335-ec5f1118a37a",
        "colab": {
          "base_uri": "https://localhost:8080/"
        }
      },
      "execution_count": 61,
      "outputs": [
        {
          "output_type": "execute_result",
          "data": {
            "text/plain": [
              "2102650"
            ]
          },
          "metadata": {},
          "execution_count": 61
        }
      ]
    },
    {
      "cell_type": "markdown",
      "metadata": {
        "id": "IOM7u24anaKa"
      },
      "source": [
        "### Update value\n"
      ]
    },
    {
      "cell_type": "markdown",
      "metadata": {
        "id": "co-Z53zYCnAN"
      },
      "source": [
        "Sometimes, city information can be incorrect or require updates.\n",
        "\n",
        "Create a `modify_city_key_value` function that replaces an existing key's value with a new one. \\\n",
        "It takes three arguments: a `city_name`, a `key` and a new`value` to assign to the key.\n",
        "\n",
        "The function will generate a text message indicating one of the following scenarios:\n",
        "\n",
        "- If the city doesn't exist or is not covered: \"*city* doesn't exist or is not covered.\"\n",
        "- If the provided key doesn't exist: \"*key* doesn't exist.\"\n",
        "- If the key has been successfully updated for the city: \"*key* has been updated for *city*.\""
      ]
    },
    {
      "cell_type": "code",
      "execution_count": 63,
      "metadata": {
        "ExecuteTime": {
          "end_time": "2024-02-13T17:02:08.090675Z",
          "start_time": "2024-02-13T17:02:08.076729Z"
        },
        "id": "9SfhtUrPNNtr"
      },
      "outputs": [],
      "source": [
        "# create the function with the selected arguments\n",
        "\n",
        "def modify_city_key_value(city_name, key, value):\n",
        "\n",
        "  # to be completed\n",
        "  # set default output\n",
        "\n",
        "\n",
        "\n",
        "  # to be completed\n",
        "  # start the loop over cities\n",
        "\n",
        " for dictionary in cities:\n",
        "        if dictionary[\"name\"]== city_name:\n",
        "          return dictionary[key][value]\n",
        "\n",
        "    # to be completed\n",
        "    # set the different outputs depending on whether the key exists\n",
        "\n",
        "# to be completed\n",
        "# test the function with examples\n",
        "# create the function with the selected arguments\n",
        "\n",
        "  # to be completed\n",
        "  # set default output\n",
        "\n",
        "\n",
        "  # to be completed\n",
        "  # set the output if the required key exists in the selected city\n",
        "\n",
        "# to be completed\n",
        "# test the function with the given example\n",
        "\n",
        "\n"
      ]
    },
    {
      "cell_type": "code",
      "source": [
        "modify_city_key_value(\"Paris\", \"total_population\")"
      ],
      "metadata": {
        "id": "moSXX79qEUqc",
        "outputId": "0189dca5-898e-4a00-aad3-b9484dc81c22",
        "colab": {
          "base_uri": "https://localhost:8080/",
          "height": 141
        }
      },
      "execution_count": 65,
      "outputs": [
        {
          "output_type": "error",
          "ename": "TypeError",
          "evalue": "modify_city_key_value() missing 1 required positional argument: 'value'",
          "traceback": [
            "\u001b[0;31m---------------------------------------------------------------------------\u001b[0m",
            "\u001b[0;31mTypeError\u001b[0m                                 Traceback (most recent call last)",
            "\u001b[0;32m<ipython-input-65-0d6f14046000>\u001b[0m in \u001b[0;36m<cell line: 1>\u001b[0;34m()\u001b[0m\n\u001b[0;32m----> 1\u001b[0;31m \u001b[0mmodify_city_key_value\u001b[0m\u001b[0;34m(\u001b[0m\u001b[0;34m\"Paris\"\u001b[0m\u001b[0;34m,\u001b[0m \u001b[0;34m\"total_population\"\u001b[0m\u001b[0;34m)\u001b[0m\u001b[0;34m\u001b[0m\u001b[0;34m\u001b[0m\u001b[0m\n\u001b[0m",
            "\u001b[0;31mTypeError\u001b[0m: modify_city_key_value() missing 1 required positional argument: 'value'"
          ]
        }
      ]
    },
    {
      "cell_type": "code",
      "source": [
        "# create the function with the selected arguments\n",
        "def get_key_value_from_city(city, key):\n",
        "\n",
        "  # to be completed\n",
        "  # set default output\n",
        " result = \"property not defined\"\n",
        "\n",
        "  # to be completed\n",
        "  # set the output if the required key exists in the selected city\n",
        " if key in city:\n",
        "   return city[key]\n",
        " else:\n",
        "   return result\n",
        "# to be completed\n",
        "# test the function with the given example\n"
      ],
      "metadata": {
        "id": "gIXpBre4187x"
      },
      "execution_count": 42,
      "outputs": []
    },
    {
      "cell_type": "code",
      "source": [
        "paris_city\n",
        "\n",
        "get_key_value_from_city(paris_city,\"barcelona\")"
      ],
      "metadata": {
        "id": "PoXdIWQ72P5i",
        "outputId": "086cbd62-0de3-447c-8569-ae3c699ce5cd",
        "colab": {
          "base_uri": "https://localhost:8080/",
          "height": 35
        }
      },
      "execution_count": 46,
      "outputs": [
        {
          "output_type": "execute_result",
          "data": {
            "text/plain": [
              "'property not defined'"
            ],
            "application/vnd.google.colaboratory.intrinsic+json": {
              "type": "string"
            }
          },
          "metadata": {},
          "execution_count": 46
        }
      ]
    },
    {
      "cell_type": "markdown",
      "metadata": {
        "id": "YfHEZCpEFMi9"
      },
      "source": [
        "## Search engine"
      ]
    },
    {
      "cell_type": "markdown",
      "metadata": {
        "id": "3pKSC0beFRch"
      },
      "source": [
        "It is quite common for customers to seek destinations that are not far from their current location in order to minimize transportation costs.\n",
        "\n",
        "\n",
        "The travel agency requires your assistance in developing a function that can provide a list of nearby cities."
      ]
    },
    {
      "cell_type": "markdown",
      "metadata": {
        "id": "QeSCztBwnaKa"
      },
      "source": [
        "### Geopy\n"
      ]
    },
    {
      "cell_type": "markdown",
      "metadata": {
        "id": "8RKP69p-FrXb"
      },
      "source": [
        "Execute the two cells below to see to observe how we can calculate the distance between two locations. \\\n",
        "Thanks to the [Geopy](https://geopy.readthedocs.io/en/stable/#) library,  this process is quite straightforward."
      ]
    },
    {
      "cell_type": "code",
      "execution_count": 41,
      "metadata": {
        "ExecuteTime": {
          "end_time": "2024-02-13T16:51:02.878914Z",
          "start_time": "2024-02-13T16:51:00.886496Z"
        },
        "id": "d9Y-n4mUlL2Q",
        "outputId": "2cf47d6b-9cc7-4405-e023-d7eb2e46801c",
        "colab": {
          "base_uri": "https://localhost:8080/"
        }
      },
      "outputs": [
        {
          "output_type": "stream",
          "name": "stdout",
          "text": [
            "Requirement already satisfied: geopy in /usr/local/lib/python3.10/dist-packages (2.3.0)\n",
            "Requirement already satisfied: geographiclib<3,>=1.52 in /usr/local/lib/python3.10/dist-packages (from geopy) (2.0)\n"
          ]
        }
      ],
      "source": [
        "!pip install geopy\n",
        "from geopy import distance"
      ]
    },
    {
      "cell_type": "code",
      "execution_count": 39,
      "metadata": {
        "ExecuteTime": {
          "end_time": "2024-02-13T16:51:02.884463Z",
          "start_time": "2024-02-13T16:51:02.881122Z"
        },
        "id": "Gv0mh5ZinaKa",
        "outputId": "361a2d2a-9b98-405b-e5e9-36788e2ab3a2",
        "colab": {
          "base_uri": "https://localhost:8080/"
        }
      },
      "outputs": [
        {
          "output_type": "stream",
          "name": "stdout",
          "text": [
            "866.4554329098685\n"
          ]
        }
      ],
      "source": [
        "newport_ri = [41.49008, -71.312796]\n",
        "cleveland_oh = [41.499498, -81.695391]\n",
        "\n",
        "print(distance.distance(newport_ri, cleveland_oh).km)\n"
      ]
    },
    {
      "cell_type": "markdown",
      "metadata": {
        "id": "jAqwumfvG97A"
      },
      "source": [
        "What is the data type of `distance.distance(newport_ri, cleveland_oh)`?"
      ]
    },
    {
      "cell_type": "code",
      "execution_count": 40,
      "metadata": {
        "ExecuteTime": {
          "end_time": "2024-02-13T16:52:26.290763Z",
          "start_time": "2024-02-13T16:52:26.265873Z"
        },
        "id": "AneA6YqQHXrF"
      },
      "outputs": [],
      "source": [
        "#your code here"
      ]
    },
    {
      "cell_type": "markdown",
      "metadata": {
        "id": "OZtnw0L9HXNP"
      },
      "source": [
        "<details>\n",
        "    <summary>Answer 💡</summary>\n",
        "    \n",
        "It's a `geopy.distance.geodesic` object.\n",
        "</details>"
      ]
    },
    {
      "cell_type": "markdown",
      "metadata": {
        "id": "sv181lronaKa"
      },
      "source": [
        "### Design the search engine\n"
      ]
    },
    {
      "cell_type": "markdown",
      "metadata": {
        "id": "pk29PbbTO63S"
      },
      "source": [
        "Create a function `get_cities_nearby` that takes two arguments:\n",
        "- `customer_location`: a list of coordinates in the format [lat, long]\n",
        "\n",
        "\n",
        "- `radius`: the threshold in km\n",
        "\n",
        "And returns a `list of cities` located near the provided customer_location.\n",
        "\n",
        "If no city has been found, the function should return an empty list."
      ]
    },
    {
      "cell_type": "markdown",
      "metadata": {
        "id": "Lk7-sNiCIyWA"
      },
      "source": [
        "You can use the city of Guangyan in China (coordinates [32.4355, 105.8436]) and a radius of 500km to test your function.\n",
        "\n",
        "You should find that Xi'an and Chengdu are not very far..."
      ]
    },
    {
      "cell_type": "code",
      "execution_count": null,
      "metadata": {
        "ExecuteTime": {
          "end_time": "2024-02-13T17:09:40.187832Z",
          "start_time": "2024-02-13T17:09:40.172012Z"
        },
        "id": "Gt9JDf46PRqb"
      },
      "outputs": [],
      "source": [
        "# create the function with the selected arguments"
      ]
    },
    {
      "cell_type": "markdown",
      "metadata": {
        "id": "iVqYzYlDJN9q"
      },
      "source": [
        "Congratulations ! 🎉 \\\n",
        "You now have a search function ready for the travel agents to use !"
      ]
    }
  ],
  "metadata": {
    "colab": {
      "provenance": [],
      "include_colab_link": true
    },
    "kernelspec": {
      "display_name": "Python 3 (ipykernel)",
      "language": "python",
      "name": "python3"
    },
    "language_info": {
      "codemirror_mode": {
        "name": "ipython",
        "version": 3
      },
      "file_extension": ".py",
      "mimetype": "text/x-python",
      "name": "python",
      "nbconvert_exporter": "python",
      "pygments_lexer": "ipython3",
      "version": "3.10.6"
    },
    "toc": {
      "base_numbering": 1,
      "nav_menu": {},
      "number_sections": true,
      "sideBar": true,
      "skip_h1_title": false,
      "title_cell": "Table of Contents",
      "title_sidebar": "Contents",
      "toc_cell": false,
      "toc_position": {},
      "toc_section_display": true,
      "toc_window_display": false
    }
  },
  "nbformat": 4,
  "nbformat_minor": 0
}